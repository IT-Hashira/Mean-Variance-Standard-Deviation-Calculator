{
 "cells": [
  {
   "cell_type": "code",
   "execution_count": 1,
   "id": "1e86fd9b",
   "metadata": {},
   "outputs": [
    {
     "name": "stdout",
     "output_type": "stream",
     "text": [
      "{'mean': [[37.0, 82.33333333333333, 26.333333333333332], [46.0, 59.333333333333336, 40.333333333333336]], 'variance': [[354.6666666666667, 57.555555555555564, 366.88888888888886], [1192.6666666666667, 190.8888888888889, 973.5555555555557]], 'standard deviation': [[18.83259585576738, 7.586537784494029, 19.154343864744856], [34.53500639447844, 13.816254517375139, 31.201851796897497]], 'max': [[55, 93, 45], [93, 78, 76]], 'min': [[11, 76, 0], [11, 45, 0]], 'sum': [[111, 247, 79], [138, 178, 121]]}\n"
     ]
    }
   ],
   "source": [
    "import numpy as np\n",
    "\n",
    "\n",
    "def calculate(*numbers):\n",
    "  if len(numbers) != 9:\n",
    "    #Limits\n",
    "    raise ValueError(\"List must contain nine numbers\")\n",
    "\n",
    "#List to array\n",
    "  matrix = np.array(numbers).reshape(3, 3)\n",
    "  #Calculation and conversion to lists of mean, variance, standard deviation, max, min, and sum\n",
    "  mean = [list(matrix.mean(axis=0)), list(matrix.mean(axis=1))]\n",
    "  variance = [list(matrix.var(axis=0)), list(matrix.var(axis=1))]\n",
    "  standard_deviation = [list(matrix.std(axis=0)), list(matrix.std(axis=1))]\n",
    "  max_ = [list(matrix.max(axis=0)), list(matrix.max(axis=1))]\n",
    "  min_ = [list(matrix.min(axis=0)), list(matrix.min(axis=1))]\n",
    "  sum_ = [list(matrix.sum(axis=0)), list(matrix.sum(axis=1))]\n",
    "  #Output\n",
    "  return {\n",
    "      \"mean\": mean,\n",
    "      \"variance\": variance,\n",
    "      \"standard deviation\": standard_deviation,\n",
    "      \"max\": max_,\n",
    "      \"min\": min_,\n",
    "      \"sum\": sum_,\n",
    "  }\n",
    "\n",
    "\n",
    "#Example\n",
    "print(calculate(11, 93, 34, 55, 78, 45, 45, 76, 0))\n",
    "    \n",
    "    \n",
    "\n",
    "    \n",
    "    \n",
    "    \n",
    "    \n",
    "    \n",
    "\n",
    "\n",
    "    \n",
    "    "
   ]
  },
  {
   "cell_type": "code",
   "execution_count": null,
   "id": "20821cc1",
   "metadata": {},
   "outputs": [],
   "source": []
  }
 ],
 "metadata": {
  "kernelspec": {
   "display_name": "Python 3 (ipykernel)",
   "language": "python",
   "name": "python3"
  },
  "language_info": {
   "codemirror_mode": {
    "name": "ipython",
    "version": 3
   },
   "file_extension": ".py",
   "mimetype": "text/x-python",
   "name": "python",
   "nbconvert_exporter": "python",
   "pygments_lexer": "ipython3",
   "version": "3.11.5"
  }
 },
 "nbformat": 4,
 "nbformat_minor": 5
}
